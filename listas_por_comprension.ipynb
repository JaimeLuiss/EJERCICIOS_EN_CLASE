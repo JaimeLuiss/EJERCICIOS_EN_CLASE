{
  "nbformat": 4,
  "nbformat_minor": 0,
  "metadata": {
    "colab": {
      "provenance": [],
      "collapsed_sections": []
    },
    "kernelspec": {
      "name": "python3",
      "display_name": "Python 3"
    },
    "language_info": {
      "name": "python"
    }
  },
  "cells": [
    {
      "cell_type": "markdown",
      "source": [
        "La lista por compresión es una construcción sintáctica disponible en Python con la que se pueden crear lista a partir de otros elementos iterales. Siendo una de las contracciones más elegantes del lenguaje. A continuacion, se mostrará la sintaxis básica para trabajar con las listas por compresión."
      ],
      "metadata": {
        "id": "O0j2PmVPn6YL"
      }
    },
    {
      "cell_type": "markdown",
      "source": [
        "*Los tipos de datos muables son todos aquellos a los que es posible cambiar, modificar \n",
        "*Los objetos mutables más comunes son las listas, diccionarios y conjuntos que sirven para guardar\n",
        "\n",
        "SINTAXIS DE LISTAS POR COMPRENSIÓN\n",
        "\n",
        "nueva_lista=[expresión bucle_for condiciones]\n",
        "\n",
        "*Entre corchetes se escribe una expresión seguida de un bucle for sobre el que se itera"
      ],
      "metadata": {
        "id": "NnEpTSUgoiAD"
      }
    },
    {
      "cell_type": "code",
      "source": [
        "#Ejemplo\n",
        "\n",
        "numbers = [1,2,3,4]\n",
        "results = []\n",
        "for n in numbers:\n",
        "  results.append(n+1)\n",
        "results"
      ],
      "metadata": {
        "colab": {
          "base_uri": "https://localhost:8080/"
        },
        "id": "IJbavAdLplKr",
        "outputId": "c6411e69-2775-47e2-8be2-264fc67b2353"
      },
      "execution_count": null,
      "outputs": [
        {
          "output_type": "execute_result",
          "data": {
            "text/plain": [
              "[2, 3, 4, 5]"
            ]
          },
          "metadata": {},
          "execution_count": 5
        }
      ]
    },
    {
      "cell_type": "markdown",
      "source": [
        "# condiciones en las listas por compresion \n",
        "\n",
        "Es posible añadir condicones a las listas por comprensión en Python. para lo que se tiene que agragar un *if* al final con la condición"
      ],
      "metadata": {
        "id": "tFTRtL-aqBCC"
      }
    },
    {
      "cell_type": "code",
      "source": [
        "numbers=[1,2,3,4]\n",
        "results=[]\n",
        "for n in numbers:\n",
        "  results.append(n+1)\n",
        "results"
      ],
      "metadata": {
        "id": "TzOt7f8orPXO"
      },
      "execution_count": null,
      "outputs": []
    },
    {
      "cell_type": "code",
      "source": [
        "numbers = [1,2,3,4]\n",
        "results = [n + 1 for n in numbers if n<5]\n",
        "results"
      ],
      "metadata": {
        "colab": {
          "base_uri": "https://localhost:8080/"
        },
        "id": "hR_vigr5qPJq",
        "outputId": "765e826c-6610-4f18-e713-e3162cf187c0"
      },
      "execution_count": null,
      "outputs": [
        {
          "output_type": "execute_result",
          "data": {
            "text/plain": [
              "[2, 3, 4, 5]"
            ]
          },
          "metadata": {},
          "execution_count": 8
        }
      ]
    },
    {
      "cell_type": "code",
      "source": [
        "results2=lambda numbers:results\n",
        "print(results2(numbers))"
      ],
      "metadata": {
        "colab": {
          "base_uri": "https://localhost:8080/"
        },
        "id": "NlWvl5hjqgDS",
        "outputId": "fe4c25aa-6441-4013-a685-790e7997e38c"
      },
      "execution_count": null,
      "outputs": [
        {
          "output_type": "stream",
          "name": "stdout",
          "text": [
            "[2, 3, 4, 5]\n"
          ]
        }
      ]
    },
    {
      "cell_type": "markdown",
      "source": [
        "EJERCICIO JESUS LOBO"
      ],
      "metadata": {
        "id": "MFpUOy7zlvvx"
      }
    },
    {
      "cell_type": "code",
      "execution_count": null,
      "metadata": {
        "colab": {
          "base_uri": "https://localhost:8080/"
        },
        "id": "pJL9yIv0lKgw",
        "outputId": "a1ecfe23-b9b6-481f-f0a6-5348b748efe7"
      },
      "outputs": [
        {
          "output_type": "stream",
          "name": "stdout",
          "text": [
            "Hasta que número quieres imprimir los pares e impares: 4\n",
            "[0, 2, 4]\n",
            "[1, 3]\n",
            "Hasta que número quieres imprimir los pares e impares: 5\n",
            "[0, 2, 4]\n",
            "[1, 3, 5]\n",
            "Hasta que número quieres imprimir los pares e impares: 4\n",
            "[0, 2, 4]\n",
            "[0, 2, 4]\n"
          ]
        }
      ],
      "source": [
        "n=int(input(\"Hasta que número quieres imprimir los pares e impares: \"))\n",
        "pares=[número for número in range (0,n+1) if número%2==0]\n",
        "print(pares)\n",
        "impares=[número for número in range(0, n+1) if número%2!=0]\n",
        "print(impares)\n",
        "\n",
        "num=int(input(\"Hasta que número quieres imprimir los pares e impares: \"))\n",
        "def hola(n):\n",
        "  pares=[número for número in range (0,n+1) if número%2==0]\n",
        "  print(pares)\n",
        "  impares=[número for número in range(0, n+1) if número%2!=0]\n",
        "  print(impares)\n",
        "hola(num)\n",
        "\n",
        "num=int(input(\"Hasta que número quieres imprimir los pares e impares: \"))\n",
        "mi_lista=[n for n in range(0,num+1)]\n",
        "impares=list(filter(lambda num:num%2==0,mi_lista))\n",
        "print(impares)\n",
        "pares=list(filter(lambda num:num%2==0,mi_lista))\n",
        "print(pares)"
      ]
    },
    {
      "cell_type": "markdown",
      "source": [
        "EJERCICIO JHON"
      ],
      "metadata": {
        "id": "y0UeGHYolzWf"
      }
    },
    {
      "cell_type": "code",
      "source": [
        "#Numero perfecto\n",
        "\n",
        "#Tradicional\n",
        "def perfecto(numero):\n",
        "  perf=0\n",
        "  for i in range(1,numero):\n",
        "    if numero%i==0:\n",
        "      perf+=i\n",
        "  if perf==numero:\n",
        "    print(\"Es un numero perfecto\")\n",
        "    return True\n",
        "  else:\n",
        "    print(\"No es un numero perfecto\")\n",
        "numero = 6\n",
        "perfecto(numero)"
      ],
      "metadata": {
        "colab": {
          "base_uri": "https://localhost:8080/"
        },
        "id": "3tP_FJBVl0rQ",
        "outputId": "0e45f076-62be-4aef-8edd-b4e2eae66cc1"
      },
      "execution_count": null,
      "outputs": [
        {
          "output_type": "stream",
          "name": "stdout",
          "text": [
            "Es un numero perfecto\n"
          ]
        },
        {
          "output_type": "execute_result",
          "data": {
            "text/plain": [
              "True"
            ]
          },
          "metadata": {},
          "execution_count": 21
        }
      ]
    },
    {
      "cell_type": "code",
      "source": [
        "def numeros():\n",
        "  a = int(input(\"Ingresa un numero\"))\n",
        "  b = int(input(\"Ingresa un numero\"))\n",
        "  c = int(input(\"Ingresa un numero\"))\n",
        "  d = int(input(\"Ingresa un numero\"))\n",
        "  perfect=[a,b,c,d]\n",
        "\n",
        "  perfect1=[elemento for elemento in perfect if perfecto(elemento)==True]\n",
        "numeros()"
      ],
      "metadata": {
        "id": "-ru7VBAls5wW"
      },
      "execution_count": null,
      "outputs": []
    },
    {
      "cell_type": "code",
      "source": [
        "lista = [2,3,6,4]\n",
        "perfect2 = list(map(lambda elemento:perfecto(elemento)==True,lista))\n",
        "perfect2"
      ],
      "metadata": {
        "id": "e3n_lbUjs7ve"
      },
      "execution_count": null,
      "outputs": []
    },
    {
      "cell_type": "markdown",
      "source": [
        "Ejemplo Juan David"
      ],
      "metadata": {
        "id": "UYrgOfhttiMs"
      }
    },
    {
      "cell_type": "code",
      "source": [
        "#Metodo Clasico\n",
        "\n",
        "import random\n",
        "numero1= [random.randint(0,2000) for x in range(100)]\n",
        "numero2= [random.randint(0,2000) for x in range(100)]\n",
        "comun=[]\n",
        "for a in numero1:\n",
        "  for b in numero2:\n",
        "    comun.append(a)\n",
        "print(comun)\n"
      ],
      "metadata": {
        "colab": {
          "base_uri": "https://localhost:8080/"
        },
        "id": "Z1JZs2EYoOe_",
        "outputId": "fb25b246-83f6-4321-b41f-27c7d2f2f005"
      },
      "execution_count": null,
      "outputs": [
        {
          "output_type": "stream",
          "name": "stdout",
          "text": [
            "[330, 1508, 340, 188, 1044, 1001, 780]\n"
          ]
        }
      ]
    },
    {
      "cell_type": "code",
      "source": [
        "#Lambda y filter\n",
        "import random\n",
        "numero1= [random.randint(0,2000) for x in range(100)]\n",
        "numero2= [random.randint(0,2000) for x in range(100)]\n",
        "comun=[]\n",
        "comun=list(filter(lambda num:num in numero1,numero2))\n",
        "print(comun)"
      ],
      "metadata": {
        "colab": {
          "base_uri": "https://localhost:8080/"
        },
        "id": "VSjtBhzIrCKR",
        "outputId": "f33abed8-edd3-4991-9456-5570b3eae8e9"
      },
      "execution_count": null,
      "outputs": [
        {
          "output_type": "stream",
          "name": "stdout",
          "text": [
            "[388]\n"
          ]
        }
      ]
    },
    {
      "cell_type": "code",
      "source": [
        "#Comprension\n",
        "\n",
        "import random\n",
        "numero1= [random.randint(0,2000) for x in range(100)]\n",
        "numero2= [random.randint(0,2000) for x in range(100)]\n",
        "comun=[x for x in numero1 for y in numero2 if x==y]\n",
        "print(comun)"
      ],
      "metadata": {
        "colab": {
          "base_uri": "https://localhost:8080/"
        },
        "id": "T7F7P9CErEoP",
        "outputId": "120eb146-ca99-480c-93af-3b74a53caa35"
      },
      "execution_count": null,
      "outputs": [
        {
          "output_type": "stream",
          "name": "stdout",
          "text": [
            "[1826, 513, 1949, 186, 493, 751]\n"
          ]
        }
      ]
    },
    {
      "cell_type": "markdown",
      "source": [
        "Ejemplo Daniel Alarcon"
      ],
      "metadata": {
        "id": "zOfguYzGrLTH"
      }
    },
    {
      "cell_type": "code",
      "source": [
        "#Lambda\n",
        "\n",
        "lambda_func = lambda x: x**2\n",
        "lambda_func(3) #Retorna 9"
      ],
      "metadata": {
        "colab": {
          "base_uri": "https://localhost:8080/"
        },
        "id": "FmuCI1fdrmhX",
        "outputId": "9a7e53d1-bdf8-4460-8a09-13df7608aa23"
      },
      "execution_count": null,
      "outputs": [
        {
          "output_type": "execute_result",
          "data": {
            "text/plain": [
              "9"
            ]
          },
          "metadata": {},
          "execution_count": 8
        }
      ]
    },
    {
      "cell_type": "code",
      "source": [
        "#Tradicional\n",
        "\n",
        "def squarel(num):\n",
        "  return num ** 2\n",
        "print(squarel(5))"
      ],
      "metadata": {
        "colab": {
          "base_uri": "https://localhost:8080/"
        },
        "id": "JIzTOQEsrmW2",
        "outputId": "02493b9f-1255-459c-ebad-95e3e657875f"
      },
      "execution_count": null,
      "outputs": [
        {
          "output_type": "stream",
          "name": "stdout",
          "text": [
            "25\n"
          ]
        }
      ]
    },
    {
      "cell_type": "code",
      "source": [
        "#Comprension\n",
        "\n",
        "L = [2,4,6,8]\n",
        "L2 = [n**2 for n in L]\n",
        "print(L2)"
      ],
      "metadata": {
        "colab": {
          "base_uri": "https://localhost:8080/"
        },
        "id": "lMpk28WZrLp_",
        "outputId": "b6c895db-144c-48c6-87f3-4b98e481ff13"
      },
      "execution_count": null,
      "outputs": [
        {
          "output_type": "stream",
          "name": "stdout",
          "text": [
            "[4, 16, 36, 64]\n"
          ]
        }
      ]
    },
    {
      "cell_type": "markdown",
      "source": [
        "Ejemplo Angie Gonzales"
      ],
      "metadata": {
        "id": "SaOJRQPtsV4N"
      }
    },
    {
      "cell_type": "code",
      "source": [
        "nom1 = ['samuelle', 'Angie','Valentina','Alejandro','Jonsito']\n",
        "nom2 = ['samuelle', 'Andrea','Samdra','Anderson','Jonsito']"
      ],
      "metadata": {
        "id": "7G-0s_irsnRT"
      },
      "execution_count": 10,
      "outputs": []
    },
    {
      "cell_type": "code",
      "source": [
        "#Comprension\n",
        "common={a for a in nom1 for b in nom2 if a == b}\n",
        "common"
      ],
      "metadata": {
        "colab": {
          "base_uri": "https://localhost:8080/"
        },
        "id": "vDeLJ-bUs9x7",
        "outputId": "fc43afbc-8a25-4467-bbcb-1a5d18eb0d3b"
      },
      "execution_count": 11,
      "outputs": [
        {
          "output_type": "execute_result",
          "data": {
            "text/plain": [
              "{'Jonsito', 'samuelle'}"
            ]
          },
          "metadata": {},
          "execution_count": 11
        }
      ]
    },
    {
      "cell_type": "code",
      "source": [
        "#Lambda\n",
        "\n",
        "common1=lambda nom1,nom2:common\n",
        "print(common1(nom1,nom2))"
      ],
      "metadata": {
        "colab": {
          "base_uri": "https://localhost:8080/"
        },
        "id": "gUZmKozwsdRc",
        "outputId": "eac11095-2d14-4b07-eef5-cae4b5cf8f82"
      },
      "execution_count": 12,
      "outputs": [
        {
          "output_type": "stream",
          "name": "stdout",
          "text": [
            "{'samuelle', 'Jonsito'}\n"
          ]
        }
      ]
    },
    {
      "cell_type": "code",
      "source": [
        "#Def\n",
        "\n",
        "def common(nom1,nom2):\n",
        "  return nom1,nom2\n",
        "common(nom1,nom2)"
      ],
      "metadata": {
        "id": "H7ZeLWVSttJy",
        "colab": {
          "base_uri": "https://localhost:8080/"
        },
        "outputId": "263faa34-5d76-4b72-d687-272b96340e6f"
      },
      "execution_count": 13,
      "outputs": [
        {
          "output_type": "execute_result",
          "data": {
            "text/plain": [
              "(['samuelle', 'Angie', 'Valentina', 'Alejandro', 'Jonsito'],\n",
              " ['samuelle', 'Andrea', 'Samdra', 'Anderson', 'Jonsito'])"
            ]
          },
          "metadata": {},
          "execution_count": 13
        }
      ]
    },
    {
      "cell_type": "markdown",
      "source": [
        "Ejercicio Valentina"
      ],
      "metadata": {
        "id": "1ivzglsPr-7d"
      }
    },
    {
      "cell_type": "code",
      "source": [
        "def listaIMC(usuarios):\n",
        "  sis=[]\n",
        "  imc=[]\n",
        "  b=0\n",
        "  a2=0\n",
        "  for n in range(usuarios):\n",
        "    w=input(\"¿Cuál es tu nombre?\")\n",
        "    b=int(input(\"Ingresa el peso: \"))\n",
        "    a2=int(input(\"Ingresa la altura: \"))\n",
        "    sis.append((w,b/a2**2))\n",
        "    imc.append(b/a2**2)\n",
        "  return sis,imc\n",
        "user=int(input(\"¿Cuántos usuarios hay?: \"))\n",
        "sis,imc=listaIMC(user)\n",
        "imc"
      ],
      "metadata": {
        "colab": {
          "base_uri": "https://localhost:8080/"
        },
        "id": "k4GIB2XwsBet",
        "outputId": "1705abe5-c0ff-4034-e442-b52af58c71cc"
      },
      "execution_count": 14,
      "outputs": [
        {
          "name": "stdout",
          "output_type": "stream",
          "text": [
            "¿Cuántos usuarios hay?: 1\n",
            "¿Cuál es tu nombre?as\n",
            "Ingresa el peso: 43\n",
            "Ingresa la altura: 234\n"
          ]
        },
        {
          "output_type": "execute_result",
          "data": {
            "text/plain": [
              "[0.0007853020673533494]"
            ]
          },
          "metadata": {},
          "execution_count": 14
        }
      ]
    },
    {
      "cell_type": "code",
      "source": [
        "sis=listaIMC(user)\n",
        "sis2=[n for n in imc if n>=18.5]\n",
        "print(sis2)"
      ],
      "metadata": {
        "colab": {
          "base_uri": "https://localhost:8080/"
        },
        "id": "SSgFEPiUsDIt",
        "outputId": "8e3bcb6f-d979-4fc1-a063-98da8e1e7c9b"
      },
      "execution_count": 21,
      "outputs": [
        {
          "output_type": "stream",
          "name": "stdout",
          "text": [
            "¿Cuál es tu nombre?ADAW\n",
            "Ingresa el peso: 133\n",
            "Ingresa la altura: 32\n",
            "[]\n"
          ]
        }
      ]
    },
    {
      "cell_type": "code",
      "source": [
        "sis3=list(map(lambda x:\"peso insuficiente\" if x<18.5 else \"peso normal\" if (x>=18.5 and x<24.9) else \"sobrepeso\" if (x>=24.9 and x<30) else \"obesidad\",imc))\n",
        "sis3"
      ],
      "metadata": {
        "colab": {
          "base_uri": "https://localhost:8080/"
        },
        "id": "hLDLWMN8r-e-",
        "outputId": "0533bc06-e209-4783-944f-cce495bccd5a"
      },
      "execution_count": 22,
      "outputs": [
        {
          "output_type": "execute_result",
          "data": {
            "text/plain": [
              "['peso insuficiente']"
            ]
          },
          "metadata": {},
          "execution_count": 22
        }
      ]
    },
    {
      "cell_type": "markdown",
      "source": [
        "EJERCICIO LEWIS"
      ],
      "metadata": {
        "id": "0AI1teinsYut"
      }
    },
    {
      "cell_type": "code",
      "source": [
        "print(\"Ingresa su código: \")\n",
        "caracter=input()\n",
        "if len(caracter)==8:\n",
        "  if caracter[0]=='u':\n",
        "    print(\"Eres estudiante de la Unab\")\n",
        "  elif(caracter.starswith(\"a000\")):\n",
        "    print(\"Eres estudiante de los Andes\")\n",
        "  else:\n",
        "    if(int(caracter)>=1950):\n",
        "      print(\"Eres estudiante de la UIS\")\n",
        "else:\n",
        "  print(\"No corresponde a ninguna universidad, revisa tu código\")\n"
      ],
      "metadata": {
        "colab": {
          "base_uri": "https://localhost:8080/"
        },
        "id": "rBFuT28rsbrE",
        "outputId": "417e5183-108f-4fd9-9620-03e7008b855e"
      },
      "execution_count": 18,
      "outputs": [
        {
          "output_type": "stream",
          "name": "stdout",
          "text": [
            "Ingresa su código: \n",
            "U00156234\n",
            "No corresponde a ninguna universidad, revisa tu código\n"
          ]
        }
      ]
    },
    {
      "cell_type": "code",
      "source": [
        "universidades=[\"unab\",\"uis\",\"andes\"]\n",
        "codigo=[\"U0015741\",\"198076\",\"a0005437\"]\n",
        "u=[cod for cod in codigo if (cod[0]=='U' and len(cod)==8)]\n",
        "print(u)"
      ],
      "metadata": {
        "colab": {
          "base_uri": "https://localhost:8080/"
        },
        "id": "PxYkUllssYTk",
        "outputId": "39f238aa-f475-420b-b69b-6d309da0e495"
      },
      "execution_count": 19,
      "outputs": [
        {
          "output_type": "stream",
          "name": "stdout",
          "text": [
            "['U0015741']\n"
          ]
        }
      ]
    },
    {
      "cell_type": "code",
      "source": [
        "y=list(map(lambda x:\"unab\" if (x[0]=='U' or x[0]=='u') else None,codigo))\n",
        "print(y)"
      ],
      "metadata": {
        "colab": {
          "base_uri": "https://localhost:8080/"
        },
        "id": "18zHjp5-sixU",
        "outputId": "8a196c06-8edd-475e-f52e-959887a8bc26"
      },
      "execution_count": 20,
      "outputs": [
        {
          "output_type": "stream",
          "name": "stdout",
          "text": [
            "['unab', None, None]\n"
          ]
        }
      ]
    },
    {
      "cell_type": "markdown",
      "source": [
        "Ejemplo de Cristhian"
      ],
      "metadata": {
        "id": "y_wmxUqTqMow"
      }
    },
    {
      "cell_type": "code",
      "source": [
        "def funcion(lista, numDigitos, universidad,clasCodigo):\n",
        "  clasi=[a for a in lista if a.startswith(clasCodigo) and len(a)==numDigitos]\n",
        "  print(f'Hay {len(clasi)} estudiante(s) de {universidad} y sus codigo(s) son {clasi}')\n",
        "\n",
        "lista=[]\n",
        "x=0\n",
        "while x==0:\n",
        "  entrada=input(\"Ingresa un codigo: \")\n",
        "  lista.append(entrada)\n",
        "  a=int(input(\"¿Deseas ingresar otro? Ingresa 0 si lo deseas,sino ingresa 1: \"))\n",
        "  if (a==1):\n",
        "    x=x+1\n",
        "\n",
        "funcion(lista,9,'la Unab','U00')\n",
        "funcion(lista,9,'los Andes','A000')"
      ],
      "metadata": {
        "colab": {
          "base_uri": "https://localhost:8080/"
        },
        "id": "j7tDl42upV0H",
        "outputId": "5d82ed6c-e9be-4a37-bc6d-543188e38cb9"
      },
      "execution_count": 1,
      "outputs": [
        {
          "output_type": "stream",
          "name": "stdout",
          "text": [
            "Ingresa un codigo: 234234\n",
            "¿Deseas ingresar otro? Ingresa 0 si lo deseas,sino ingresa 1: 0\n",
            "Ingresa un codigo: 234234\n",
            "¿Deseas ingresar otro? Ingresa 0 si lo deseas,sino ingresa 1: 1\n",
            "Hay 0 estudiante(s) de la Unab y sus codigo(s) son []\n",
            "Hay 0 estudiante(s) de los Andes y sus codigo(s) son []\n"
          ]
        }
      ]
    },
    {
      "cell_type": "code",
      "source": [
        "lista=[]\n",
        "x=0\n",
        "while x==0:\n",
        "  entrada=input(\"Ingresa un codigo: \")\n",
        "  lista.append(entrada)\n",
        "  a=int(input(\"¿Deseas ingresar otro? Ingresa 0 si lo deseas,sino ingresa 1: \"))\n",
        "  if (a==1):\n",
        "    x=x+1\n",
        "\n",
        "clasificacion=[a for a in lista if a.startswith(\"U00\") and len(a)==9]\n",
        "print(f'Hay {len(clasificacion)} estudiante(s) de la Unab y sus codigo(s) son {clasificacion}')\n",
        "clasificacion=[a for a in lista if a.startswith(\"A000\") and len(a)==9]\n",
        "print(f'Hay {len(clasificacion)} estudiante(s) de los Andes y sus codigo(s) son {clasificacion}')"
      ],
      "metadata": {
        "colab": {
          "base_uri": "https://localhost:8080/"
        },
        "id": "4XuU1ws4pw3Y",
        "outputId": "8a0220da-09b0-4083-8238-65e60631d3c5"
      },
      "execution_count": 2,
      "outputs": [
        {
          "output_type": "stream",
          "name": "stdout",
          "text": [
            "Ingresa un codigo: 234234\n",
            "¿Deseas ingresar otro? Ingresa 0 si lo deseas,sino ingresa 1: 1\n",
            "Hay 0 estudiante(s) de la Unab y sus codigo(s) son []\n",
            "Hay 0 estudiante(s) de los Andes y sus codigo(s) son []\n"
          ]
        }
      ]
    },
    {
      "cell_type": "code",
      "source": [
        "lista=[]\n",
        "x=0\n",
        "while x==0:\n",
        "  entrada=input(\"Ingresa un codigo: \")\n",
        "  lista.append(entrada)\n",
        "  a=int(input(\"¿Deseas ingresar otro? Ingresa 0 si lo deseas,sino ingresa 1: \"))\n",
        "  if (a==1):\n",
        "    x=x+1\n",
        "lista1=[\"U0015741\",\"198076\",\"a0005437\"]\n",
        "clasif=list(map(lambda a:\"UNAB\" if a.startswith(\"U00\") or a.startswith(\"u00\") else 'Los Andes' if a.startswith(\"A000\") or a.startswith(\"A000\") else None, lista))\n",
        "clasif"
      ],
      "metadata": {
        "colab": {
          "base_uri": "https://localhost:8080/"
        },
        "id": "7u2xn14ApXpX",
        "outputId": "f1e34d62-6a74-49f8-cdd5-9396b960953f"
      },
      "execution_count": 3,
      "outputs": [
        {
          "name": "stdout",
          "output_type": "stream",
          "text": [
            "Ingresa un codigo: 4243\n",
            "¿Deseas ingresar otro? Ingresa 0 si lo deseas,sino ingresa 1: 1\n"
          ]
        },
        {
          "output_type": "execute_result",
          "data": {
            "text/plain": [
              "[None]"
            ]
          },
          "metadata": {},
          "execution_count": 3
        }
      ]
    },
    {
      "cell_type": "markdown",
      "source": [
        "Ejemplo Armith"
      ],
      "metadata": {
        "id": "8k-1aFPjp4ku"
      }
    },
    {
      "cell_type": "code",
      "source": [
        "num=[1,2,3,4,5,6,7,8,9,10]\n",
        "exp=int(input(\"Escribe un exponente: \"))\n",
        "x=len(num)\n",
        "for n in range(1,(x)):\n",
        "  num[n]=num[n]**exp\n",
        "print(num)\n",
        "def imprimir(num):\n",
        "  s=1\n",
        "  for i in num:\n",
        "    print(f\"\\nEl resultado del elemento {s} de la lista es {i}\")\n",
        "    s+=1\n",
        "imprimir(num)"
      ],
      "metadata": {
        "colab": {
          "base_uri": "https://localhost:8080/"
        },
        "id": "xOCVEa0Mp66-",
        "outputId": "d9c925e7-a81d-4981-bf27-fdce3cf58852"
      },
      "execution_count": 4,
      "outputs": [
        {
          "output_type": "stream",
          "name": "stdout",
          "text": [
            "Escribe un exponente: 3\n",
            "[1, 8, 27, 64, 125, 216, 343, 512, 729, 1000]\n",
            "\n",
            "El resultado del elemento 1 de la lista es 1\n",
            "\n",
            "El resultado del elemento 2 de la lista es 8\n",
            "\n",
            "El resultado del elemento 3 de la lista es 27\n",
            "\n",
            "El resultado del elemento 4 de la lista es 64\n",
            "\n",
            "El resultado del elemento 5 de la lista es 125\n",
            "\n",
            "El resultado del elemento 6 de la lista es 216\n",
            "\n",
            "El resultado del elemento 7 de la lista es 343\n",
            "\n",
            "El resultado del elemento 8 de la lista es 512\n",
            "\n",
            "El resultado del elemento 9 de la lista es 729\n",
            "\n",
            "El resultado del elemento 10 de la lista es 1000\n"
          ]
        }
      ]
    },
    {
      "cell_type": "code",
      "source": [
        "num=[1,2,3,4,5,6,7,8,9,10]\n",
        "exp=int(input(\"Escribe un exponente: \"))\n",
        "números=[n**exp for n in num]\n",
        "números\n",
        "imprimir(números)"
      ],
      "metadata": {
        "colab": {
          "base_uri": "https://localhost:8080/"
        },
        "id": "MWi2-ebMp8y1",
        "outputId": "e24e7063-06fa-4b57-b8f0-d2747bfa5335"
      },
      "execution_count": 5,
      "outputs": [
        {
          "output_type": "stream",
          "name": "stdout",
          "text": [
            "Escribe un exponente: 23\n",
            "\n",
            "El resultado del elemento 1 de la lista es 1\n",
            "\n",
            "El resultado del elemento 2 de la lista es 8388608\n",
            "\n",
            "El resultado del elemento 3 de la lista es 94143178827\n",
            "\n",
            "El resultado del elemento 4 de la lista es 70368744177664\n",
            "\n",
            "El resultado del elemento 5 de la lista es 11920928955078125\n",
            "\n",
            "El resultado del elemento 6 de la lista es 789730223053602816\n",
            "\n",
            "El resultado del elemento 7 de la lista es 27368747340080916343\n",
            "\n",
            "El resultado del elemento 8 de la lista es 590295810358705651712\n",
            "\n",
            "El resultado del elemento 9 de la lista es 8862938119652501095929\n",
            "\n",
            "El resultado del elemento 10 de la lista es 100000000000000000000000\n"
          ]
        }
      ]
    },
    {
      "cell_type": "code",
      "source": [
        "num=list(range(1,11))\n",
        "exp=int(input(\"Escribe un exponente: \"))\n",
        "números=lambda num,exp:(n**exp for n in num)\n",
        "número1=números(num,exp)\n",
        "imprimir(list(número1))"
      ],
      "metadata": {
        "colab": {
          "base_uri": "https://localhost:8080/"
        },
        "id": "Y8Z2ltJNp-te",
        "outputId": "b436437c-73c9-4b04-bed2-7963cb5ceab1"
      },
      "execution_count": 6,
      "outputs": [
        {
          "output_type": "stream",
          "name": "stdout",
          "text": [
            "Escribe un exponente: 2\n",
            "\n",
            "El resultado del elemento 1 de la lista es 1\n",
            "\n",
            "El resultado del elemento 2 de la lista es 4\n",
            "\n",
            "El resultado del elemento 3 de la lista es 9\n",
            "\n",
            "El resultado del elemento 4 de la lista es 16\n",
            "\n",
            "El resultado del elemento 5 de la lista es 25\n",
            "\n",
            "El resultado del elemento 6 de la lista es 36\n",
            "\n",
            "El resultado del elemento 7 de la lista es 49\n",
            "\n",
            "El resultado del elemento 8 de la lista es 64\n",
            "\n",
            "El resultado del elemento 9 de la lista es 81\n",
            "\n",
            "El resultado del elemento 10 de la lista es 100\n"
          ]
        }
      ]
    }
  ]
}